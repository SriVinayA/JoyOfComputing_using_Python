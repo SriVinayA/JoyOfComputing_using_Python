{
 "cells": [
  {
   "cell_type": "code",
   "execution_count": 31,
   "metadata": {},
   "outputs": [],
   "source": [
    "# Fact\n",
    "# ----\n",
    "# M = n(n^2+1)/ 2\n",
    "\n",
    "# Steps\n",
    "# -----\n",
    "# 1) In any magic square, 1 is located at position (n/2, n-1)\n",
    "\n",
    "# 2) Let's say the position of 1 i.e. (n/2, n-1) is (p, q), then next number which is 2 is located at (p-1, q+1) position.\n",
    "#    Anytime if the calculated row position becomes -1 then make it n-1 and if column position becomes n then make it 0.\n",
    "\n",
    "# 3) If the calculated position already contains a number then decrement the column by 2 and increment the row by 1\n",
    "\n",
    "# 4) If anytime row position becomes -1 and column becomes n, switch it to (0, n-2)"
   ]
  },
  {
   "cell_type": "code",
   "execution_count": null,
   "metadata": {},
   "outputs": [],
   "source": []
  },
  {
   "cell_type": "code",
   "execution_count": null,
   "metadata": {},
   "outputs": [],
   "source": []
  },
  {
   "cell_type": "code",
   "execution_count": 32,
   "metadata": {},
   "outputs": [],
   "source": [
    "def magic_square(n):\n",
    "    \n",
    "    magicSquare = []\n",
    "    for i in range(n):\n",
    "        l = []\n",
    "        for j in range(n):\n",
    "            l.append(0)\n",
    "        magicSquare.append(l)\n",
    "        \n",
    "    for i in range(n):\n",
    "        #l = []\n",
    "        for j in range(n):\n",
    "            #l.append(0)\n",
    "            print(magicSquare[i][j],end=' ')\n",
    "        print()"
   ]
  },
  {
   "cell_type": "code",
   "execution_count": 33,
   "metadata": {},
   "outputs": [
    {
     "name": "stdout",
     "output_type": "stream",
     "text": [
      "0 0 0 \n",
      "0 0 0 \n",
      "0 0 0 \n"
     ]
    }
   ],
   "source": [
    "magic_square(3)"
   ]
  },
  {
   "cell_type": "code",
   "execution_count": 34,
   "metadata": {},
   "outputs": [],
   "source": [
    "def magic_square(n):\n",
    "    \n",
    "    magicSquare = []\n",
    "    for i in range(n):\n",
    "        l = []\n",
    "        for j in range(n):\n",
    "            l.append(0)\n",
    "        magicSquare.append(l)\n",
    "\n",
    "    i = n//2\n",
    "    j = n-1\n",
    "    \n",
    "    num = n*n\n",
    "    count = 1\n",
    "    \n",
    "    while(count<=num):\n",
    "        if(i==-1 and j==n):   #condition 4\n",
    "            j = n-2\n",
    "            i = 0\n",
    "        else:\n",
    "            if (j==n):          #coloumn value is exceeding\n",
    "                j = 0\n",
    "            if (i<0):         #row is becoming -1\n",
    "                i = n-1\n",
    "                \n",
    "        if (magicSquare[i][j]!=0):\n",
    "            j = j-2\n",
    "            i = i+1\n",
    "            continue\n",
    "        else:\n",
    "            magicSquare[i][j] = count\n",
    "            count+=1\n",
    "            \n",
    "        i = i-1\n",
    "        j = j+1               #condition 1\n",
    "        \n",
    "        \n",
    "    for i in range(n):\n",
    "        #l = []\n",
    "        for j in range(n):\n",
    "            #l.append(0)\n",
    "            print(magicSquare[i][j],end=' ')\n",
    "        print()    \n",
    "        \n",
    "    print(\" The sum of each row/coloumn/diagonal is: \"+str(n*(n**2+1)/2))"
   ]
  },
  {
   "cell_type": "code",
   "execution_count": 35,
   "metadata": {},
   "outputs": [
    {
     "name": "stdout",
     "output_type": "stream",
     "text": [
      "2 7 6 \n",
      "9 5 1 \n",
      "4 3 8 \n",
      " The sum of each row/coloumn/diagonal is: 15.0\n"
     ]
    }
   ],
   "source": [
    "magic_square(3)"
   ]
  },
  {
   "cell_type": "code",
   "execution_count": 36,
   "metadata": {},
   "outputs": [
    {
     "name": "stdout",
     "output_type": "stream",
     "text": [
      "20 12 4 45 37 29 28 \n",
      "11 3 44 36 35 27 19 \n",
      "2 43 42 34 26 18 10 \n",
      "49 41 33 25 17 9 1 \n",
      "40 32 24 16 8 7 48 \n",
      "31 23 15 14 6 47 39 \n",
      "22 21 13 5 46 38 30 \n",
      " The sum of each row/coloumn/diagonal is: 175.0\n"
     ]
    }
   ],
   "source": [
    "magic_square(7)"
   ]
  }
 ],
 "metadata": {
  "kernelspec": {
   "display_name": "Python 3",
   "language": "python",
   "name": "python3"
  },
  "language_info": {
   "codemirror_mode": {
    "name": "ipython",
    "version": 3
   },
   "file_extension": ".py",
   "mimetype": "text/x-python",
   "name": "python",
   "nbconvert_exporter": "python",
   "pygments_lexer": "ipython3",
   "version": "3.6.5"
  }
 },
 "nbformat": 4,
 "nbformat_minor": 2
}
