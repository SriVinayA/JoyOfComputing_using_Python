{
 "cells": [
  {
   "cell_type": "code",
   "execution_count": 1,
   "metadata": {},
   "outputs": [],
   "source": [
    "# You are given a number A which contains only digits 0's and 1's. Your task is to make all digits same by just flipping one digit (i.e. 0 to 1 or 1 to 0 ) only. If it is possible to make all the  digits same by just flipping one digit then print 'YES' else print 'NO'.\n",
    "\n",
    "# Input Format:\n",
    "\n",
    "# The first line contains a number made up of 0's and 1's.\n",
    "\n",
    "# Output Format:\n",
    "\n",
    "# Print 'YES' or 'NO' accordingly without quotes.\n",
    "\n",
    "# Example:\n",
    "\n",
    "# Input:\n",
    "\n",
    "# 101\n",
    "\n",
    "# Output:\n",
    "# YES\n",
    "\n",
    "# Explanation: \n",
    "# If you flip the middle digit from 0 to 1 then all the digits will become same. Hence output is YES."
   ]
  },
  {
   "cell_type": "code",
   "execution_count": 3,
   "metadata": {},
   "outputs": [
    {
     "name": "stdout",
     "output_type": "stream",
     "text": [
      "101\n",
      "YES"
     ]
    }
   ],
   "source": [
    "data=[int(i) for i in input()]\n",
    "n=data.count(0)\n",
    "a=data.count(1)\n",
    "if n==1:\n",
    "    print('YES', end='')\n",
    "else:\n",
    "    if a==1:\n",
    "        print('YES', end='')\n",
    "    else:\n",
    "        print('NO', end='')"
   ]
  }
 ],
 "metadata": {
  "kernelspec": {
   "display_name": "Python 3",
   "language": "python",
   "name": "python3"
  },
  "language_info": {
   "codemirror_mode": {
    "name": "ipython",
    "version": 3
   },
   "file_extension": ".py",
   "mimetype": "text/x-python",
   "name": "python",
   "nbconvert_exporter": "python",
   "pygments_lexer": "ipython3",
   "version": "3.7.1"
  }
 },
 "nbformat": 4,
 "nbformat_minor": 2
}
