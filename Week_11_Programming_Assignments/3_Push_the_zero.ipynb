{
 "cells": [
  {
   "cell_type": "code",
   "execution_count": 1,
   "metadata": {},
   "outputs": [],
   "source": [
    "# Write a Python program to push all zeros to the end of a given list a. The order of the elements should not change.\n",
    "\n",
    "# Input Format:\n",
    "# Elements of the list a with each element separated by a space.\n",
    "\n",
    "# Output Format:\n",
    "# Elements of the modified list with each element separated by a space. After the last element, there should not be any space.\n",
    "\n",
    "# Example:\n",
    "\n",
    "# Input:\n",
    "# 0 2 3 4 6 7 10\n",
    "\n",
    "# Output:\n",
    "# 2 3 4 6 7 10 0\n",
    "\n",
    "# Explanation:\n",
    "# There is one zero in the list. After pushing it at the end the elements of the list becomes 2 3 4 6 7 10 0. The order of other elements remains the same."
   ]
  },
  {
   "cell_type": "code",
   "execution_count": 2,
   "metadata": {},
   "outputs": [
    {
     "name": "stdout",
     "output_type": "stream",
     "text": [
      "0 2 3 4 6 7 10\n",
      "2 3 4 6 7 10 0"
     ]
    }
   ],
   "source": [
    "n=[int(i) for i in input().split(\" \")]\n",
    "x=len(n)\n",
    "c=n.count(0)\n",
    "for i in range(c):\n",
    "    n.remove(0)\n",
    "    n.append(0)\n",
    "for i in range(x):\n",
    "    if i==x-1:\n",
    "        print(n[i],end='')\n",
    "    else:\n",
    "        print(n[i],end=' ')"
   ]
  },
  {
   "cell_type": "markdown",
   "metadata": {},
   "source": [
    "# solutions Provided by instructor"
   ]
  },
  {
   "cell_type": "code",
   "execution_count": 3,
   "metadata": {},
   "outputs": [
    {
     "name": "stdout",
     "output_type": "stream",
     "text": [
      "0 2 3 4 6 7 10\n",
      "2 3 4 6 7 10 0"
     ]
    }
   ],
   "source": [
    "\"\"\"\n",
    "\n",
    "@author: descentis\n",
    "\"\"\"\n",
    "\n",
    "def move_zero(num_list):\n",
    "    a = [0 for i in range(num_list.count(0))]\n",
    "    x = [ i for i in num_list if i != 0]\n",
    "    x.extend(a)\n",
    "    return(x)\n",
    "\n",
    "num_list = list(map(int, input ().split ()))\n",
    "\n",
    "res = move_zero(num_list)\n",
    "\n",
    "for i in range(len(res)):\n",
    "    if(i==len(res)-1):    \n",
    "        print(res[i],end=\"\")\n",
    "    else:\n",
    "        print(res[i],end=\" \")"
   ]
  }
 ],
 "metadata": {
  "kernelspec": {
   "display_name": "py36",
   "language": "python",
   "name": "py36"
  },
  "language_info": {
   "codemirror_mode": {
    "name": "ipython",
    "version": 3
   },
   "file_extension": ".py",
   "mimetype": "text/x-python",
   "name": "python",
   "nbconvert_exporter": "python",
   "pygments_lexer": "ipython3",
   "version": "3.6.6"
  }
 },
 "nbformat": 4,
 "nbformat_minor": 2
}
