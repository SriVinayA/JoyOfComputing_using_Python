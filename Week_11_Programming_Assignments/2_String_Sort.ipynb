{
 "cells": [
  {
   "cell_type": "code",
   "execution_count": 1,
   "metadata": {},
   "outputs": [],
   "source": [
    "# Write a program that accepts a comma-separated sequence of words as input and prints the words in a comma-separated sequence after sorting them alphabetically.\n",
    "\n",
    "# Input Format:\n",
    "# The first line of input contains words separated by the comma.\n",
    "\n",
    "# Output Format:\n",
    "# Print the sorted words separated by the comma.\n",
    "\n",
    "# Example:\n",
    "\n",
    "# Input:\n",
    "# without,hello,bag,world\n",
    "\n",
    "# Output:\n",
    "# bag,hello,without,world"
   ]
  },
  {
   "cell_type": "code",
   "execution_count": 2,
   "metadata": {},
   "outputs": [
    {
     "name": "stdout",
     "output_type": "stream",
     "text": [
      "without,hello,bag,world\n",
      "bag,hello,without,world"
     ]
    }
   ],
   "source": [
    "y=input()\n",
    "y=y.split(\",\")\n",
    "y=sorted(y)\n",
    "print (\",\".join(y),end='')"
   ]
  },
  {
   "cell_type": "markdown",
   "metadata": {},
   "source": [
    "# solutions Provided by instructor"
   ]
  },
  {
   "cell_type": "code",
   "execution_count": 3,
   "metadata": {},
   "outputs": [
    {
     "name": "stdout",
     "output_type": "stream",
     "text": [
      "without,hello,bag,world\n",
      "bag,hello,without,world\n"
     ]
    }
   ],
   "source": [
    "\"\"\"\n",
    "\n",
    "@author: descentis\n",
    "\"\"\"\n",
    "\n",
    "items=[x for x in input().split(',')]\n",
    "items.sort()\n",
    "print (','.join(items))"
   ]
  }
 ],
 "metadata": {
  "kernelspec": {
   "display_name": "py36",
   "language": "python",
   "name": "py36"
  },
  "language_info": {
   "codemirror_mode": {
    "name": "ipython",
    "version": 3
   },
   "file_extension": ".py",
   "mimetype": "text/x-python",
   "name": "python",
   "nbconvert_exporter": "python",
   "pygments_lexer": "ipython3",
   "version": "3.6.6"
  }
 },
 "nbformat": 4,
 "nbformat_minor": 2
}
