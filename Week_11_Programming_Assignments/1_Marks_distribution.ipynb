{
 "cells": [
  {
   "cell_type": "code",
   "execution_count": 1,
   "metadata": {},
   "outputs": [],
   "source": [
    "# Given a list A of n elements, representing the marks. There are m students and you have to distribute the marks from the list A to m students such that:\n",
    "\n",
    "# 1) Each student gets marks.\n",
    "# 2) The difference between the maximum marks and minimum marks given to the students is minimised.\n",
    "\n",
    "# Input Format:\n",
    "# The first line contains the value n and m respectively separated by a space.\n",
    "# The second line contains the elements of list A separated by a space\n",
    "\n",
    "# Output Format:\n",
    "# Print the minimum difference\n",
    "\n",
    "# Example:\n",
    "\n",
    "# Input:\n",
    "# 7 3\n",
    "# 7 3 2 4 8 12 56\n",
    "\n",
    "# Output:\n",
    "# 2\n",
    "\n",
    "# Explanation:\n",
    "# We need to pick 3 marks for three students (m=3). If we pick 2, 3 and 4, the difference is minimum which is 2"
   ]
  },
  {
   "cell_type": "code",
   "execution_count": 2,
   "metadata": {},
   "outputs": [
    {
     "name": "stdout",
     "output_type": "stream",
     "text": [
      "7 3\n",
      "7 3 2 4 8 12 56\n",
      "2"
     ]
    }
   ],
   "source": [
    "n,m=input().split(\" \")\n",
    "n=int(n)\n",
    "m=int(m)\n",
    "ip=[int(i) for i in input().split(\" \")]\n",
    "new=sorted(ip)\n",
    "i=0\n",
    "mdf=new[n-1]-new[0]\n",
    "x=[]\n",
    "while i+m <= n:\n",
    "    if new[m+i-1]-new[i] < mdf:\n",
    "        x.append(new[m+i-1]-new[i])\n",
    "    i+=1\n",
    "print(min(x),end='')"
   ]
  },
  {
   "cell_type": "markdown",
   "metadata": {},
   "source": [
    "# solutions Provided by instructor"
   ]
  },
  {
   "cell_type": "code",
   "execution_count": 3,
   "metadata": {},
   "outputs": [
    {
     "name": "stdout",
     "output_type": "stream",
     "text": [
      "7 3\n",
      "7 3 2 4 8 12 56\n",
      "2\n"
     ]
    }
   ],
   "source": [
    "\"\"\"\n",
    "Created on Thu Dec 20 19:34:16 2018\n",
    "\n",
    "@author: descentis\n",
    "\"\"\"\n",
    "\n",
    "import sys; \n",
    "  \n",
    "\n",
    "def findMinDiff(arr, n, m): \n",
    "  \n",
    "    # if there are no chocolates or number \n",
    "    # of students is 0 \n",
    "    if (m==0 or n==0): \n",
    "        return 0\n",
    "  \n",
    "    # Sort the given packets \n",
    "    arr.sort() \n",
    "  \n",
    "    # Number of students cannot be more than \n",
    "    # number of packets \n",
    "    if (n < m): \n",
    "        return -1\n",
    "  \n",
    "    # Largest number of chocolates \n",
    "    min_diff = sys.maxsize \n",
    "  \n",
    "    # Find the subarray of size m such that \n",
    "    # difference between last (maximum in case \n",
    "    # of sorted) and first (minimum in case of \n",
    "    # sorted) elements of subarray is minimum. \n",
    "    first = 0\n",
    "    last = 0\n",
    "    i=0\n",
    "    while(i+m-1<n ): \n",
    "      \n",
    "        diff = arr[i+m-1] - arr[i] \n",
    "        if (diff < min_diff): \n",
    "          \n",
    "            min_diff = diff \n",
    "            first = i \n",
    "            last = i + m - 1\n",
    "          \n",
    "        i+=1\n",
    "          \n",
    "    return (arr[last] - arr[first])\n",
    "\n",
    "n,m = input().split(' ')\n",
    "n = int(n)\n",
    "m = int(m)\n",
    "\n",
    "A = [int(i) for i in input().split(\" \")]\n",
    "\n",
    "print(findMinDiff(A, n, m))"
   ]
  }
 ],
 "metadata": {
  "kernelspec": {
   "display_name": "py36",
   "language": "python",
   "name": "py36"
  },
  "language_info": {
   "codemirror_mode": {
    "name": "ipython",
    "version": 3
   },
   "file_extension": ".py",
   "mimetype": "text/x-python",
   "name": "python",
   "nbconvert_exporter": "python",
   "pygments_lexer": "ipython3",
   "version": "3.6.6"
  }
 },
 "nbformat": 4,
 "nbformat_minor": 2
}
