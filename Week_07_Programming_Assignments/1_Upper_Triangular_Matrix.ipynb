{
 "cells": [
  {
   "cell_type": "code",
   "execution_count": 1,
   "metadata": {},
   "outputs": [],
   "source": [
    "# An Upper triangular matrix is a square matrix (where the number of rows and columns are equal)  where all the elements below the diagonal are zero.\n",
    "# For example, the following is an upper triangular matrix with the number of rows and columns equal to 3.\n",
    "\n",
    "# 1 2 3\n",
    "# 0 5 6\n",
    "# 0 0 9\n",
    "\n",
    "# Write a program to convert a square matrix into an upper triangular matrix.\n",
    "\n",
    "# Input Format:\n",
    "# The first line of the input contains an integer number n which represents the number of rows and the number of columns.\n",
    "# From the second line, take n lines input with each line containing n integer elements. Elements are separated by space.\n",
    "\n",
    "# Output format:\n",
    "# Print the elements of the matrix with each row in a new line and each element separated by a space.\n",
    "\n",
    "# Example 1:\n",
    "\n",
    "# Input:\n",
    "# 3\n",
    "# 1 2 3\n",
    "# 4 5 6\n",
    "# 7 8 9\n",
    "\n",
    "# Output:\n",
    "# 1 2 3\n",
    "# 0 5 6\n",
    "# 0 0 9\n",
    "\n",
    "# Example 2:\n",
    "\n",
    "# Input:\n",
    "# 4\n",
    "# 12 2 5 6\n",
    "# 10 11 4 1\n",
    "# 32 1 4 10\n",
    "# 1 2 10 9\n",
    "\n",
    "# Output:\n",
    "# 12 2 5 6\n",
    "# 0 11 4 1\n",
    "# 0 0 4 10\n",
    "# 0 0 0 9\n",
    "\n",
    "# Explanation:\n",
    "# In both the examples, elements which are below the diagonal are zero.\n",
    "\n",
    "# NOTE: There should not be any extra space after the elements of the last column and no extra newline after the last row of the matrix.\n"
   ]
  },
  {
   "cell_type": "code",
   "execution_count": 1,
   "metadata": {},
   "outputs": [
    {
     "name": "stdout",
     "output_type": "stream",
     "text": [
      "4\n",
      "12 2 5 6\n",
      "10 11 4 1\n",
      "32 1 4 10\n",
      "1 2 10 9\n",
      "12 2 5 6\n",
      "0 11 4 1\n",
      "0 0 4 10\n",
      "0 0 0 9"
     ]
    }
   ],
   "source": [
    "n=input()\n",
    "n=int(n)\n",
    "a=[]\n",
    "for i in range(n):\n",
    "    l=[]\n",
    "    for j in range(n):\n",
    "        l.append(0)\n",
    "    a.append(l)\n",
    "\n",
    "for i in range(n):\n",
    "    o=[int(g) for g in input().split(\" \")]\n",
    "    for j in range(n):\n",
    "        a[i][j]=o[j]\n",
    "\n",
    "for i in range(n):\n",
    "    for j in range(n):\n",
    "        if i>j:\n",
    "            a[i][j]=0\n",
    "for i in range(n):\n",
    "    if(i!=0):\n",
    "      print( )\n",
    "    for j in range(n):\n",
    "        if(j==(n-1)):\n",
    "            print(a[i][j],end='')\n",
    "        else:\n",
    "            print(a[i][j],end=' ')"
   ]
  },
  {
   "cell_type": "markdown",
   "metadata": {},
   "source": [
    "# Solution Provided by instructor"
   ]
  },
  {
   "cell_type": "code",
   "execution_count": 2,
   "metadata": {},
   "outputs": [
    {
     "name": "stdout",
     "output_type": "stream",
     "text": [
      "4\n",
      "12 2 5 6\n",
      "10 11 4 1\n",
      "32 1 4 10\n",
      "1 2 10 9\n",
      "12 2 5 6\n",
      "0 11 4 1\n",
      "0 0 4 10\n",
      "0 0 0 9"
     ]
    }
   ],
   "source": [
    "a = int(input())\n",
    "\n",
    "\n",
    "m = []\n",
    "for i in range(1,a+1):    \n",
    "    l = list(map(int, input ().split ()))\n",
    "    m.append(l)\n",
    "\n",
    "for i in range(a):\n",
    "    for j in range(a):\n",
    "        if(i<=j):\n",
    "            if(j==a-1):\n",
    "                print(m[i][j], end=\"\")\n",
    "            else:\n",
    "                print(m[i][j], end=\" \")\n",
    "        else:\n",
    "            if(j==a-1):\n",
    "                print(0, end=\"\")\n",
    "            else:\n",
    "                print(0, end=\" \")\n",
    "    if(i!=a-1):\n",
    "        print()"
   ]
  }
 ],
 "metadata": {
  "kernelspec": {
   "display_name": "py36",
   "language": "python",
   "name": "py36"
  },
  "language_info": {
   "codemirror_mode": {
    "name": "ipython",
    "version": 3
   },
   "file_extension": ".py",
   "mimetype": "text/x-python",
   "name": "python",
   "nbconvert_exporter": "python",
   "pygments_lexer": "ipython3",
   "version": "3.6.6"
  }
 },
 "nbformat": 4,
 "nbformat_minor": 2
}
