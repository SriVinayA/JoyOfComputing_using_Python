{
 "cells": [
  {
   "cell_type": "code",
   "execution_count": 2,
   "metadata": {},
   "outputs": [],
   "source": [
    "# Given a square matrix of N rows and columns, find out whether it is symmetric or not.\n",
    "\n",
    "# Input Format:\n",
    "# The first line of the input contains an integer number n which represents the number of rows and the number of columns.\n",
    "# From the second line, take n lines input with each line containing n integer elements with each element separated by a space.\n",
    "\n",
    "# Output Format:\n",
    "# Print 'YES' if it is symmetric otherwise 'NO'\n",
    "\n",
    "# Example:\n",
    "\n",
    "# Input:\n",
    "# 2\n",
    "# 1 2\n",
    "# 2 1\n",
    "\n",
    "# Output:\n",
    "# YES\n"
   ]
  },
  {
   "cell_type": "code",
   "execution_count": 3,
   "metadata": {},
   "outputs": [
    {
     "name": "stdout",
     "output_type": "stream",
     "text": [
      "2\n",
      "1 2\n",
      "2 1\n",
      "YES"
     ]
    }
   ],
   "source": [
    "n=int(input())\n",
    "a=[]\n",
    "z=[]\n",
    "for i in range(n):\n",
    "    l=[]\n",
    "    l2=[]\n",
    "    for j in range(n):\n",
    "        l.append(0)\n",
    "        l2.append(0)\n",
    "    a.append(l)\n",
    "    z.append(l2)\n",
    "\n",
    "for i in range(n):\n",
    "    o=[int(g) for g in input().split(\" \")]\n",
    "    for j in range(n):\n",
    "        a[i][j]=o[j]\n",
    "for i in range(n):\n",
    "    for j in range(n):\n",
    "        z[i][j]=a[j][i]\n",
    "if (z==a):\n",
    "    print(\"YES\",end='')\n",
    "else:\n",
    "    print(\"NO\",end='')"
   ]
  },
  {
   "cell_type": "markdown",
   "metadata": {},
   "source": [
    "# Solution Provided by instructor"
   ]
  },
  {
   "cell_type": "code",
   "execution_count": 1,
   "metadata": {},
   "outputs": [
    {
     "name": "stdout",
     "output_type": "stream",
     "text": [
      "2\n",
      "1 2\n",
      "2 1\n",
      "YES\n"
     ]
    }
   ],
   "source": [
    "def isSymmetric(mat, N): \n",
    "    for i in range(N): \n",
    "        for j in range(N): \n",
    "            if (mat[i][j] != mat[j][i]): \n",
    "                return False\n",
    "    return True\n",
    "   \n",
    "\n",
    "a = int(input())\n",
    "\n",
    "\n",
    "m = []\n",
    "for i in range(1,a+1):    \n",
    "    l = list(map(int, input ().split ()))\n",
    "    m.append(l)\n",
    "if (isSymmetric(m, a)): \n",
    "    print(\"YES\")\n",
    "else: \n",
    "    print(\"NO\")"
   ]
  }
 ],
 "metadata": {
  "kernelspec": {
   "display_name": "py36",
   "language": "python",
   "name": "py36"
  },
  "language_info": {
   "codemirror_mode": {
    "name": "ipython",
    "version": 3
   },
   "file_extension": ".py",
   "mimetype": "text/x-python",
   "name": "python",
   "nbconvert_exporter": "python",
   "pygments_lexer": "ipython3",
   "version": "3.6.6"
  }
 },
 "nbformat": 4,
 "nbformat_minor": 2
}
