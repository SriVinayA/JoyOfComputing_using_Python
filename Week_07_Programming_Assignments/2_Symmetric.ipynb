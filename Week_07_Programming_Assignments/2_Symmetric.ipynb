{
 "cells": [
  {
   "cell_type": "code",
   "execution_count": 2,
   "metadata": {},
   "outputs": [],
   "source": [
    "# Given a square matrix of N rows and columns, find out whether it is symmetric or not.\n",
    "\n",
    "# Input Format:\n",
    "# The first line of the input contains an integer number n which represents the number of rows and the number of columns.\n",
    "# From the second line, take n lines input with each line containing n integer elements with each element separated by a space.\n",
    "\n",
    "# Output Format:\n",
    "# Print 'YES' if it is symmetric otherwise 'NO'\n",
    "\n",
    "# Example:\n",
    "\n",
    "# Input:\n",
    "# 2\n",
    "# 1 2\n",
    "# 2 1\n",
    "\n",
    "# Output:\n",
    "# YES\n"
   ]
  },
  {
   "cell_type": "code",
   "execution_count": 3,
   "metadata": {},
   "outputs": [
    {
     "name": "stdout",
     "output_type": "stream",
     "text": [
      "2\n",
      "1 2\n",
      "2 1\n",
      "YES"
     ]
    }
   ],
   "source": [
    "n=int(input())\n",
    "a=[]\n",
    "z=[]\n",
    "for i in range(n):\n",
    "    l=[]\n",
    "    l2=[]\n",
    "    for j in range(n):\n",
    "        l.append(0)\n",
    "        l2.append(0)\n",
    "    a.append(l)\n",
    "    z.append(l2)\n",
    "\n",
    "for i in range(n):\n",
    "    o=[int(g) for g in input().split(\" \")]\n",
    "    for j in range(n):\n",
    "        a[i][j]=o[j]\n",
    "for i in range(n):\n",
    "    for j in range(n):\n",
    "        z[i][j]=a[j][i]\n",
    "if (z==a):\n",
    "    print(\"YES\",end='')\n",
    "else:\n",
    "    print(\"NO\",end='')"
   ]
  }
 ],
 "metadata": {
  "kernelspec": {
   "display_name": "py36",
   "language": "python",
   "name": "py36"
  },
  "language_info": {
   "codemirror_mode": {
    "name": "ipython",
    "version": 3
   },
   "file_extension": ".py",
   "mimetype": "text/x-python",
   "name": "python",
   "nbconvert_exporter": "python",
   "pygments_lexer": "ipython3",
   "version": "3.6.6"
  }
 },
 "nbformat": 4,
 "nbformat_minor": 2
}
