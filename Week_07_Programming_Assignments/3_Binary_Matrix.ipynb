{
 "cells": [
  {
   "cell_type": "code",
   "execution_count": 1,
   "metadata": {},
   "outputs": [],
   "source": [
    "# Given a matrix with N rows and M columns, the task is to check if the matrix is a Binary Matrix. A binary matrix is a matrix in which all the elements are either 0 or 1.\n",
    "\n",
    "# Input Format:\n",
    "# The first line of the input contains two integer number N and M which represents the number of rows and the number of columns respectively, separated by a space.\n",
    "# From the second line, take N lines input with each line containing M integer elements with each element separated by a space. \n",
    "\n",
    "# Output Format:\n",
    "# Print 'YES' or 'NO' accordingly\n",
    "\n",
    "# Example:\n",
    "\n",
    "# Input:\n",
    "# 3 3\n",
    "# 1 0 0\n",
    "# 0 0 1\n",
    "# 1 1 0\n",
    "\n",
    "# Output:\n",
    "# YES\n"
   ]
  },
  {
   "cell_type": "code",
   "execution_count": 2,
   "metadata": {},
   "outputs": [
    {
     "name": "stdout",
     "output_type": "stream",
     "text": [
      "3 3\n",
      "1 0 0\n",
      "0 0 1\n",
      "1 1 0\n",
      "YES"
     ]
    }
   ],
   "source": [
    "n,m=(input().split(\" \"))\n",
    "n=int(n)\n",
    "m=int(m)\n",
    "a=[]\n",
    "z=[]\n",
    "for i in range(n):\n",
    "    l=[]\n",
    "    for j in range(m):\n",
    "        l.append(0)\n",
    "    a.append(l)\n",
    "\n",
    "for i in range(n):\n",
    "    o=[int(g) for g in input().split(\" \")]\n",
    "    for j in range(m):\n",
    "        a[i][j]=o[j]\n",
    "        z.append(a[i][j])\n",
    "\n",
    "for i in z:\n",
    "  if i>1:\n",
    "    print(\"NO\",end='')\n",
    "    break\n",
    "else:\n",
    "  print(\"YES\",end='')"
   ]
  }
 ],
 "metadata": {
  "kernelspec": {
   "display_name": "py36",
   "language": "python",
   "name": "py36"
  },
  "language_info": {
   "codemirror_mode": {
    "name": "ipython",
    "version": 3
   },
   "file_extension": ".py",
   "mimetype": "text/x-python",
   "name": "python",
   "nbconvert_exporter": "python",
   "pygments_lexer": "ipython3",
   "version": "3.6.6"
  }
 },
 "nbformat": 4,
 "nbformat_minor": 2
}
