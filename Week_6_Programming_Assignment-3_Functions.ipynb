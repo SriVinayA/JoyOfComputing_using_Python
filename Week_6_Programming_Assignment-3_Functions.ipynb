{
 "cells": [
  {
   "cell_type": "code",
   "execution_count": 1,
   "metadata": {},
   "outputs": [],
   "source": [
    "# Given an integer number n, define a function named printDict() which can print a dictionary where the keys are numbers between 1 and n (both included) and the values are square of keys.\n",
    "# The function printDict() doesn't take any argument.\n",
    "\n",
    "# Input Format:\n",
    "# The first line contains the number n.\n",
    "\n",
    "# Output Format:\n",
    "# Print the dictionary in one line.\n",
    "\n",
    "# Example:\n",
    "\n",
    "# Input:\n",
    "# 5\n",
    "\n",
    "# Output:\n",
    "# {1: 1, 2: 4, 3: 9, 4: 16, 5: 25}\n",
    "\n",
    "# NOTE: You are supposed to write the code for the function printDict() only. The function has already been called in the main part of the code."
   ]
  },
  {
   "cell_type": "code",
   "execution_count": 2,
   "metadata": {},
   "outputs": [],
   "source": [
    "def printDict():\n",
    "    a = int(input())\n",
    "    d = {}\n",
    "    for i in range(a):\n",
    "        d[i+1] = (i+1)**2\n",
    "    print(d, end='')"
   ]
  },
  {
   "cell_type": "code",
   "execution_count": 3,
   "metadata": {},
   "outputs": [
    {
     "name": "stdout",
     "output_type": "stream",
     "text": [
      "5\n",
      "{1: 1, 2: 4, 3: 9, 4: 16, 5: 25}"
     ]
    }
   ],
   "source": [
    "printDict()"
   ]
  }
 ],
 "metadata": {
  "kernelspec": {
   "display_name": "Python 3",
   "language": "python",
   "name": "python3"
  },
  "language_info": {
   "codemirror_mode": {
    "name": "ipython",
    "version": 3
   },
   "file_extension": ".py",
   "mimetype": "text/x-python",
   "name": "python",
   "nbconvert_exporter": "python",
   "pygments_lexer": "ipython3",
   "version": "3.6.5"
  }
 },
 "nbformat": 4,
 "nbformat_minor": 2
}
