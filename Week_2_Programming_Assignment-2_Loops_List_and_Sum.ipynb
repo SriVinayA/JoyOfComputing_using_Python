{
 "cells": [
  {
   "cell_type": "code",
   "execution_count": null,
   "metadata": {},
   "outputs": [],
   "source": [
    "# Given an array A of N numbers, you have to write a program which prints the sum of the elements of array A with the corresponding elements of the reverse of array A.\n",
    "# If array A has elements [1,2,3], then reverse of the array A will be [3,2,1] and the resultant array should be [4,4,4].\n",
    "\n",
    "# Input Format:\n",
    "\n",
    "# The first line of the input contains a number N representing the number of elements in array A.\n",
    "# The second line of the input contains N numbers separated by a space. (after the last elements, there is no space)\n",
    "\n",
    "# Output Format:\n",
    "\n",
    "# Print the resultant array elements separated by a space. (no space after the last element)\n",
    "\n",
    "# Example:\n",
    "\n",
    "# Input:\n",
    "# 4\n",
    "# 2 5 3 1\n",
    "\n",
    "# Output:\n",
    "# 3883\n",
    "\n",
    "# Explanation:\n",
    "# Here array A is [2,5,3,1] os reverse of this array is [1,3,5,2] and hence the resultant array is [3,8,8,3]"
   ]
  },
  {
   "cell_type": "code",
   "execution_count": 1,
   "metadata": {},
   "outputs": [
    {
     "name": "stdout",
     "output_type": "stream",
     "text": [
      "4\n",
      "1 2 3 4\n",
      "5 5 5 5\n"
     ]
    }
   ],
   "source": [
    "n = int(input())\n",
    "arr1 = list(map(int,input().split()))\n",
    "\n",
    "\n",
    "arr2 = arr1[::-1]\n",
    "\n",
    "\n",
    "k = [arr1[i]+arr2[i] for i in range(len(arr1))]\n",
    "\n",
    "for i in range(n):\n",
    "    print(str(k[i]),end=\" \")"
   ]
  }
 ],
 "metadata": {
  "kernelspec": {
   "display_name": "Python 3",
   "language": "python",
   "name": "python3"
  },
  "language_info": {
   "codemirror_mode": {
    "name": "ipython",
    "version": 3
   },
   "file_extension": ".py",
   "mimetype": "text/x-python",
   "name": "python",
   "nbconvert_exporter": "python",
   "pygments_lexer": "ipython3",
   "version": "3.6.5"
  }
 },
 "nbformat": 4,
 "nbformat_minor": 2
}
