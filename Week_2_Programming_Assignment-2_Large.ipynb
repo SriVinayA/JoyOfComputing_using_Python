{
 "cells": [
  {
   "cell_type": "code",
   "execution_count": 1,
   "metadata": {},
   "outputs": [],
   "source": [
    "# Given two numbers as input, print the larger number.\n",
    "\n",
    "# Input Format:\n",
    "# The first line of input contains two numbers separated by a space\n",
    "\n",
    "# Output Format:\n",
    "# Print the larger number\n",
    "\n",
    "# Example:\n",
    "\n",
    "# Input:\n",
    "# 2 3\n",
    "\n",
    "# Output:\n",
    "# 3\n"
   ]
  },
  {
   "cell_type": "code",
   "execution_count": 2,
   "metadata": {},
   "outputs": [
    {
     "name": "stdout",
     "output_type": "stream",
     "text": [
      "2 3\n",
      "3\n"
     ]
    }
   ],
   "source": [
    "a,b=input().split()\n",
    "a=int(a)\n",
    "b=int(b)\n",
    "if a>b:\n",
    "    print(a)\n",
    "elif b>a:\n",
    "    print(b)"
   ]
  }
 ],
 "metadata": {
  "kernelspec": {
   "display_name": "Python 3",
   "language": "python",
   "name": "python3"
  },
  "language_info": {
   "codemirror_mode": {
    "name": "ipython",
    "version": 3
   },
   "file_extension": ".py",
   "mimetype": "text/x-python",
   "name": "python",
   "nbconvert_exporter": "python",
   "pygments_lexer": "ipython3",
   "version": "3.6.5"
  }
 },
 "nbformat": 4,
 "nbformat_minor": 2
}
