{
 "cells": [
  {
   "cell_type": "code",
   "execution_count": 1,
   "metadata": {},
   "outputs": [],
   "source": [
    "# With a given list L of integers, write a program to print this list L after removing all duplicate values with original order preserved.\n",
    "\n",
    "# Example:\n",
    "\n",
    "# If the input list is\n",
    "\n",
    "# 12 24 35 24 88 120 155 88 120 155\n",
    "\n",
    "# Then the output should be\n",
    "\n",
    "# 12 24 35 88 120 155\n",
    "\n",
    "# Explanation:\n",
    "# Third, seventh and ninth element of the list L has been removed because it was already present.\n",
    "\n",
    "# Input Format:\n",
    "# In one line take the elements of the list L with each element separated by a space.\n",
    "\n",
    "# Output Format:\n",
    "# Print the elements of the modified list in one line with each element separated by a space.\n",
    "\n",
    "# Example:\n",
    "\n",
    "# Input:\n",
    "# 12 24 35 24\n",
    "\n",
    "# Output:\n",
    "# 12 24 35\n"
   ]
  },
  {
   "cell_type": "code",
   "execution_count": 3,
   "metadata": {},
   "outputs": [
    {
     "name": "stdout",
     "output_type": "stream",
     "text": [
      "12 24 35 24\n",
      "12 24 35 "
     ]
    }
   ],
   "source": [
    "l=[int(i) for i in input().split(\" \")]\n",
    "f=[]\n",
    "for i in l:\n",
    "  if i not in f:\n",
    "    f.append(i)\n",
    "for i in f:\n",
    "  print(i,end=' ')"
   ]
  }
 ],
 "metadata": {
  "kernelspec": {
   "display_name": "py36",
   "language": "python",
   "name": "py36"
  },
  "language_info": {
   "codemirror_mode": {
    "name": "ipython",
    "version": 3
   },
   "file_extension": ".py",
   "mimetype": "text/x-python",
   "name": "python",
   "nbconvert_exporter": "python",
   "pygments_lexer": "ipython3",
   "version": "3.6.6"
  }
 },
 "nbformat": 4,
 "nbformat_minor": 2
}
