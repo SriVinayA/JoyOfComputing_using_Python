{
 "cells": [
  {
   "cell_type": "code",
   "execution_count": 1,
   "metadata": {},
   "outputs": [],
   "source": [
    "# Given a string S of lowercase letters, remove consecutive vowels from S. After removing, the order of the list should be maintained.\n",
    "\n",
    "# Input Format:\n",
    "\n",
    "# Sentence S in a single line\n",
    "\n",
    "# Output Format:\n",
    "# Print S after removing consecutive vowels\n",
    "\n",
    "# Example:\n",
    "\n",
    "# Input:\n",
    "# your article is in queue\n",
    "\n",
    "# Output:\n",
    "# yor article is in qu\n",
    "\n",
    "# Explanation:\n",
    "\n",
    "# In the first word, 'o' and 'u' are appearing together, hence the second letter 'u' is removed. In the fifth word, 'u', 'e', 'u' and 'e' are appearing together, hence 'e', 'u', 'e' are removed.\n"
   ]
  },
  {
   "cell_type": "code",
   "execution_count": 2,
   "metadata": {},
   "outputs": [
    {
     "name": "stdout",
     "output_type": "stream",
     "text": [
      "your article is in queue\n",
      "yor article is in qu"
     ]
    }
   ],
   "source": [
    "def vow(l): \n",
    "  \n",
    "    return ((l == 'a') or (l == 'e') or (l == 'i') or (l == 'o') or (l == 'u')) \n",
    "def final(ip): \n",
    "    print(ip[0], end = \"\"); \n",
    "    for i in range(1,len(ip)):\n",
    "        if ((vow(ip[i - 1]) != True) or \n",
    "            (vow(ip[i])!= True)):          \n",
    "            print(ip[i], end = \"\")\n",
    "ip=input() \n",
    "final(ip) "
   ]
  }
 ],
 "metadata": {
  "kernelspec": {
   "display_name": "py36",
   "language": "python",
   "name": "py36"
  },
  "language_info": {
   "codemirror_mode": {
    "name": "ipython",
    "version": 3
   },
   "file_extension": ".py",
   "mimetype": "text/x-python",
   "name": "python",
   "nbconvert_exporter": "python",
   "pygments_lexer": "ipython3",
   "version": "3.6.6"
  }
 },
 "nbformat": 4,
 "nbformat_minor": 2
}
