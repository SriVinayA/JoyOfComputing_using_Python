{
 "cells": [
  {
   "cell_type": "code",
   "execution_count": 1,
   "metadata": {},
   "outputs": [],
   "source": [
    "# A panagram is a sentence containing every 26 letters in the English alphabet. Given a string S, check if it is panagram or not.\n",
    "\n",
    "# Input Format:\n",
    "# The first line contains the sentence S.\n",
    "\n",
    "# Output Format:\n",
    "# Print 'YES' or 'NO' accordingly\n",
    "\n",
    "# Example:\n",
    "\n",
    "# Input:\n",
    "# The quick brown fox jumps over the lazy dog\n",
    "\n",
    "# Output:\n",
    "# YES\n"
   ]
  },
  {
   "cell_type": "code",
   "execution_count": 2,
   "metadata": {},
   "outputs": [
    {
     "name": "stdout",
     "output_type": "stream",
     "text": [
      "The quick brown fox jumps over the lazy dog\n",
      "YES"
     ]
    }
   ],
   "source": [
    "alphabet=[]\n",
    "for i in range(97,123):\n",
    "    alphabet.append(chr(i))\n",
    "ip=input()\n",
    "LOW=(ip.lower())\n",
    "short=[]\n",
    "for i in LOW:\n",
    "    if i==' ':\n",
    "      continue\n",
    "    if i not in short:\n",
    "        short.append(i)\n",
    "final=sorted(short)\n",
    "if final==alphabet:\n",
    "    print(\"YES\",end='')\n",
    "else:\n",
    "    print(\"NO\",end='')"
   ]
  }
 ],
 "metadata": {
  "kernelspec": {
   "display_name": "Python 3",
   "language": "python",
   "name": "python3"
  },
  "language_info": {
   "codemirror_mode": {
    "name": "ipython",
    "version": 3
   },
   "file_extension": ".py",
   "mimetype": "text/x-python",
   "name": "python",
   "nbconvert_exporter": "python",
   "pygments_lexer": "ipython3",
   "version": "3.6.5"
  }
 },
 "nbformat": 4,
 "nbformat_minor": 2
}
