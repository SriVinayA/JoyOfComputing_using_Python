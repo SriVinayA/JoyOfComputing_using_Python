{
 "cells": [
  {
   "cell_type": "code",
   "execution_count": 1,
   "metadata": {},
   "outputs": [],
   "source": [
    "# Write a program that calculates and prints the value according to the given formula:\n",
    "# Q = Square root of [(2 * C * D)/H]\n",
    "# Following are the fixed values of C and H:\n",
    "# C is 50. H is 30.\n",
    "# D is the variable whose values should be input to your program in a comma-separated sequence.\n",
    "\n",
    "# Input Format:\n",
    "# A sequence of values for D with each value separated by a comma.\n",
    "\n",
    "# Output Format:\n",
    "# Print the sequence of Q values with each value separated by a comma.\n",
    "\n",
    "# Example:\n",
    "\n",
    "# Input:\n",
    "# 100,150,180\n",
    "\n",
    "# Output:\n",
    "# 18,22,24"
   ]
  },
  {
   "cell_type": "code",
   "execution_count": 2,
   "metadata": {},
   "outputs": [
    {
     "name": "stdout",
     "output_type": "stream",
     "text": [
      "100,150,180\n",
      "18,22,24"
     ]
    }
   ],
   "source": [
    "d=[int(i) for i in input().split(\",\")]\n",
    "c=50\n",
    "h=30\n",
    "l=len(d)\n",
    "f=[]\n",
    "for i in range(l):\n",
    "    q=((2 * c * d[i])/h)**(0.5)\n",
    "    f.append(round(q))\n",
    "for i in range(l):\n",
    "  if i==l-1:\n",
    "    print(f[i],end=\"\")\n",
    "  else:\n",
    "    print(f[i],end=',')"
   ]
  }
 ],
 "metadata": {
  "kernelspec": {
   "display_name": "py36",
   "language": "python",
   "name": "py36"
  },
  "language_info": {
   "codemirror_mode": {
    "name": "ipython",
    "version": 3
   },
   "file_extension": ".py",
   "mimetype": "text/x-python",
   "name": "python",
   "nbconvert_exporter": "python",
   "pygments_lexer": "ipython3",
   "version": "3.6.6"
  }
 },
 "nbformat": 4,
 "nbformat_minor": 2
}
