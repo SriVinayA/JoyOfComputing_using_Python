{
 "cells": [
  {
   "cell_type": "code",
   "execution_count": 1,
   "metadata": {},
   "outputs": [],
   "source": [
    "# One day Ajit got a strange feeling of jumping from one point to another. The jumping will be done in one ­dimension only. \n",
    "# He will start from a point 0 and from there he will perform a lot of jumps. He can only jump in a specific sequence: \n",
    "# 1­jump, 2­jump, 3­jump, 1­jump, 2­jump, 3­jump, 1­jump, and so on. (1­>2­>3­>1­>2­>3­>1.....)\n",
    "\n",
    "# 1-­jump means that if Ajit is at the point x, he will jump to the point x+1. \n",
    "# 2­-jumps mean that if Ajit is at the point x, he will jump to the point x+2. \n",
    "# 3­-jumps mean that if Ajit is at the point x, he will jump to the point x+3. \n",
    "\n",
    "# Before the start Ajit asks you: will he arrive at the point a after some number of jumps?\n",
    "\n",
    "# Input Format:\n",
    "# The first line contains a single number a denoting the point Ajit asks about.\n",
    "\n",
    "# Output Format:\n",
    "# Output \"YES\" without a quotes if Ajit can arrive at point a or \"NO\" without quotes \n",
    "# otherwise.\n",
    "\n",
    "# Example-1:\n",
    "\n",
    "# Input:\n",
    "# 0\n",
    "\n",
    "# Output:\n",
    "# YES\n",
    "\n",
    "# Explanation:\n",
    "# He started at point 0\n",
    "\n",
    "# Example-2:\n",
    "\n",
    "# Input:\n",
    "# 2\n",
    "\n",
    "# Output:\n",
    "# NO\n",
    "\n",
    "# Explanation:\n",
    "# From 0 he can take 1 jump to reach point 1 but after that  he can take only 2 jumps which will lead him to point 3.\n",
    "# Jump sequence (1­>2).\n",
    "\n",
    "# NOTE: The value of a can be as large as 1018. Please make your program efficient or you may receive run time error.\n"
   ]
  },
  {
   "cell_type": "code",
   "execution_count": 2,
   "metadata": {},
   "outputs": [
    {
     "name": "stdout",
     "output_type": "stream",
     "text": [
      "2\n",
      "NO"
     ]
    }
   ],
   "source": [
    "ip=int(input())\n",
    "x=ip%6\n",
    "if x==0 or x==1 or x==3:\n",
    "  print(\"YES\",end=\"\")\n",
    "else:\n",
    "  print(\"NO\",end=\"\")"
   ]
  }
 ],
 "metadata": {
  "kernelspec": {
   "display_name": "py36",
   "language": "python",
   "name": "py36"
  },
  "language_info": {
   "codemirror_mode": {
    "name": "ipython",
    "version": 3
   },
   "file_extension": ".py",
   "mimetype": "text/x-python",
   "name": "python",
   "nbconvert_exporter": "python",
   "pygments_lexer": "ipython3",
   "version": "3.6.6"
  }
 },
 "nbformat": 4,
 "nbformat_minor": 2
}
