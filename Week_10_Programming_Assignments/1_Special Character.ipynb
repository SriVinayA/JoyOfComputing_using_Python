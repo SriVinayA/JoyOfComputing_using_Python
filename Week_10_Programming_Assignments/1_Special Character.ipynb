{
 "cells": [
  {
   "cell_type": "code",
   "execution_count": 1,
   "metadata": {},
   "outputs": [],
   "source": [
    "# Given a string S, check whether it contains any special character or not. Print 'YES' if it does else 'NO'.\n",
    "\n",
    "# Input Format:\n",
    "\n",
    "# The first line contains the string S\n",
    "\n",
    "# Output Format:\n",
    "\n",
    "# Print 'YES' or 'NO'\n",
    "\n",
    "# Example:\n",
    "\n",
    "# Input:\n",
    "# Hi$my*name\n",
    "\n",
    "# Output:\n",
    "# YES"
   ]
  },
  {
   "cell_type": "code",
   "execution_count": 2,
   "metadata": {},
   "outputs": [
    {
     "name": "stdout",
     "output_type": "stream",
     "text": [
      "Hi$my*name\n",
      "YES"
     ]
    }
   ],
   "source": [
    "ip=input()\n",
    "l=['0','1','2','3','4','5','6','7','8','9',' ']\n",
    "for i in range(65,90):\n",
    "  l.append(chr(i))\n",
    "for i in range(97,122):\n",
    "  l.append(chr(i))\n",
    "for i in ip:\n",
    "  if i not in l:\n",
    "    print(\"YES\",end='')\n",
    "    break\n",
    "else:\n",
    "  print(\"NO\",end='')"
   ]
  }
 ],
 "metadata": {
  "kernelspec": {
   "display_name": "py36",
   "language": "python",
   "name": "py36"
  },
  "language_info": {
   "codemirror_mode": {
    "name": "ipython",
    "version": 3
   },
   "file_extension": ".py",
   "mimetype": "text/x-python",
   "name": "python",
   "nbconvert_exporter": "python",
   "pygments_lexer": "ipython3",
   "version": "3.6.6"
  }
 },
 "nbformat": 4,
 "nbformat_minor": 2
}
