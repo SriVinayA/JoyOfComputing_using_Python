{
 "cells": [
  {
   "cell_type": "code",
   "execution_count": 1,
   "metadata": {},
   "outputs": [],
   "source": [
    "# You all have used the random library of python. You have seen in the screen-cast of how powerful it is.\n",
    "# In this assignment, you will sort a list let's say list_1 of numbers in increasing order using the random library.\n",
    "\n",
    "# Following are the steps to sort the numbers using the random library.\n",
    "\n",
    "# Step 1: Import the randint definition of the random library of python. Check this page if you want some help.\n",
    "\n",
    "# Step 2: Take the elements of the list_1 as input.\n",
    "\n",
    "# Step 3: randomly choose two indexes i and j within the range of the size of list_1.\n",
    "\n",
    "# Step 4: Swap the elements present at the indexes i and j. After doing this, check whether the list_1 is sorted or not.\n",
    "\n",
    "# Step 5: Repeat step 3 and 4 until the array is not sorted.\n",
    "\n",
    "# Input Format:\n",
    "# The first line contains a single number n which signifies the number of elements in the list_1.\n",
    "# From the second line, the elements of the list_1 are given with each number in a new line.\n",
    "\n",
    "# Output Format:\n",
    "# Print the elements of the list_1 in a single line with each element separated by a space. \n",
    "# NOTE 1: There should not be any space after the last element.\n",
    "\n",
    "# Example:\n",
    "\n",
    "# Input:\n",
    "# 4\n",
    "# 3\n",
    "# 1\n",
    "# 2\n",
    "# 5\n",
    "\n",
    "# Output:\n",
    "# 1 2 3 5\n",
    "\n",
    "# Explanation: \n",
    "# The first line of the input is 4. Which means that n is 4, or the number of elements in list_1 is 4. The elements of list_1 are 3, 1, 2, 5 in this order.\n",
    "# The sorted version of this list is 1 2 3 5, which is the output.\n",
    "\n",
    "# NOTE 2: There are many ways to sort the elements of a list. The purpose of this assignment is to show the power of randomness, and obviously it's fun."
   ]
  },
  {
   "cell_type": "code",
   "execution_count": 1,
   "metadata": {},
   "outputs": [
    {
     "name": "stdout",
     "output_type": "stream",
     "text": [
      "4\n",
      "3\n",
      "1\n",
      "2\n",
      "5\n",
      "1 2 3 5\n"
     ]
    }
   ],
   "source": [
    "from random import randint\n",
    "n = int(input())\n",
    "arr = []\n",
    "for i in range(n):\n",
    "    x = int(input())\n",
    "    arr.append(x)\n",
    "\n",
    "sorted = True\n",
    "\n",
    "while(sorted):\n",
    "    j = randint(0,n-1)\n",
    "    i = randint(0,n-1)\n",
    "    arr[i],arr[j] = arr[j],arr[i]\n",
    "    for k in range(0,n-1):\n",
    "        if (arr[k] > arr[k+1]):\n",
    "            sorted = False\n",
    "    \n",
    "    if(sorted):\n",
    "        break\n",
    "    else:\n",
    "        sorted = True\n",
    "\n",
    "for i in range(n):\n",
    "    if(i==n-1):\n",
    "        print(arr[i])\n",
    "    else:\n",
    "        print(arr[i],end=\" \")"
   ]
  }
 ],
 "metadata": {
  "kernelspec": {
   "display_name": "Python 3",
   "language": "python",
   "name": "python3"
  },
  "language_info": {
   "codemirror_mode": {
    "name": "ipython",
    "version": 3
   },
   "file_extension": ".py",
   "mimetype": "text/x-python",
   "name": "python",
   "nbconvert_exporter": "python",
   "pygments_lexer": "ipython3",
   "version": "3.6.5"
  }
 },
 "nbformat": 4,
 "nbformat_minor": 2
}
