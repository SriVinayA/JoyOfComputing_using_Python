{
 "cells": [
  {
   "cell_type": "code",
   "execution_count": null,
   "metadata": {},
   "outputs": [],
   "source": [
    "# Given a number n, you have to print the factorial of this number. To know about factorial please click on this link.\n",
    "\n",
    "# Input Format:\n",
    "\n",
    "# A number n.\n",
    "\n",
    "# Output Format:\n",
    "\n",
    "# Print the factorial of n.\n",
    "\n",
    "# Example:\n",
    "\n",
    "# Input:\n",
    "# 4\n",
    "\n",
    "# Output:\n",
    "# 24"
   ]
  },
  {
   "cell_type": "code",
   "execution_count": 1,
   "metadata": {},
   "outputs": [
    {
     "name": "stdout",
     "output_type": "stream",
     "text": [
      "4\n",
      "24"
     ]
    }
   ],
   "source": [
    "n = int(input())\n",
    "k = 1\n",
    "for i in range(1,n+1):\n",
    "  k = k*i\n",
    "print(k,end='')"
   ]
  }
 ],
 "metadata": {
  "kernelspec": {
   "display_name": "Python 3",
   "language": "python",
   "name": "python3"
  },
  "language_info": {
   "codemirror_mode": {
    "name": "ipython",
    "version": 3
   },
   "file_extension": ".py",
   "mimetype": "text/x-python",
   "name": "python",
   "nbconvert_exporter": "python",
   "pygments_lexer": "ipython3",
   "version": "3.6.5"
  }
 },
 "nbformat": 4,
 "nbformat_minor": 2
}
