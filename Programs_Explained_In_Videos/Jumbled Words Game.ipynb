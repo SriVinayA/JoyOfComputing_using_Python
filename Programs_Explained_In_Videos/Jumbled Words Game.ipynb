{
 "cells": [
  {
   "cell_type": "code",
   "execution_count": 1,
   "metadata": {},
   "outputs": [],
   "source": [
    "import random"
   ]
  },
  {
   "cell_type": "code",
   "execution_count": 2,
   "metadata": {},
   "outputs": [],
   "source": [
    "def choose():\n",
    "    words = ['rainbow','computer','science','programming','mathematics','player','condition','reverse','water','board']\n",
    "    pick = random.choice(words)\n",
    "    return pick"
   ]
  },
  {
   "cell_type": "code",
   "execution_count": 3,
   "metadata": {},
   "outputs": [],
   "source": [
    "def jumble(word):\n",
    "    jumbled = \"\".join(random.sample(word,len(word)))\n",
    "    return jumbled"
   ]
  },
  {
   "cell_type": "code",
   "execution_count": 4,
   "metadata": {},
   "outputs": [],
   "source": [
    "def thank(p1n,p2n,p1,p2):\n",
    "    print(p1n,'Your score is : ',p1)\n",
    "    print(p2n,'Your score is : ',p2)\n",
    "    print(\"Thanks for playing\")\n",
    "    print(\"Have a nice day\")"
   ]
  },
  {
   "cell_type": "code",
   "execution_count": 5,
   "metadata": {},
   "outputs": [
    {
     "name": "stdout",
     "output_type": "stream",
     "text": [
      "Player 1, Please Enter your name : abc\n",
      "Player 2, Please Enter your name : xyz\n",
      "\n",
      "\n",
      "atwer\n",
      "abc Your Turn.\n",
      "What is on your mind? water\n",
      "Your Score is :  1\n",
      "Press 1 to continue and 0 to quit : 1\n",
      "\n",
      "\n",
      "odbra\n",
      "xyz Your Turn.\n",
      "What is on your mind? board\n",
      "Your Score is :  1\n",
      "Press 1 to continue and 0 to quit : 1\n",
      "\n",
      "\n",
      "orpemuct\n",
      "abc Your Turn.\n",
      "What is on your mind? computer\n",
      "Your Score is :  2\n",
      "Press 1 to continue and 0 to quit : 1\n",
      "\n",
      "\n",
      "cseneic\n",
      "xyz Your Turn.\n",
      "What is on your mind? cesenic\n",
      "Better luck next time. I thought :  science\n",
      "Press 1 to continue and 0 to quit : 0\n",
      "\n",
      "\n",
      "abc Your score is :  2\n",
      "xyz Your score is :  1\n",
      "Thanks for playing\n",
      "Have a nice day\n"
     ]
    }
   ],
   "source": [
    "def play():\n",
    "    p1name = input('Player 1, Please Enter your name : ')\n",
    "    p2name = input('Player 2, Please Enter your name : ')\n",
    "    print(\"\\n\")\n",
    "    pp1 = 0\n",
    "    pp2 = 0\n",
    "    turn = 0\n",
    "    while(1):\n",
    "        #computer's task\n",
    "        picked_word = choose()\n",
    "        #create question\n",
    "        qn = jumble(picked_word)\n",
    "        print(qn)\n",
    "        #player1\n",
    "        if turn%2==0:\n",
    "            print(p1name,\"Your Turn.\")\n",
    "            ans = input('What is on your mind? ')\n",
    "            if ans==picked_word:\n",
    "                pp1 = pp1+1\n",
    "                print('Your Score is : ',pp1)\n",
    "            else:\n",
    "                print('Better luck next time. I thought : ',picked_word)\n",
    "            c = int(input(\"Press 1 to continue and 0 to quit : \"))\n",
    "            print(\"\\n\")\n",
    "            if c==0:\n",
    "                thank(p1name,p2name,pp1,pp2)\n",
    "                break\n",
    "        #player2\n",
    "        else:\n",
    "            print(p2name,\"Your Turn.\")\n",
    "            ans = input('What is on your mind? ')\n",
    "            if ans==picked_word:\n",
    "                pp2 = pp2+1\n",
    "                print('Your Score is : ',pp2)\n",
    "            else:\n",
    "                print('Better luck next time. I thought : ',picked_word)\n",
    "            c = int(input(\"Press 1 to continue and 0 to quit : \"))\n",
    "            print(\"\\n\")\n",
    "            if c==0:\n",
    "                thank(p1name,p2name,pp1,pp2)\n",
    "                break\n",
    "        turn=turn+1\n",
    "        \n",
    "        \n",
    "play()"
   ]
  }
 ],
 "metadata": {
  "kernelspec": {
   "display_name": "Python 3",
   "language": "python",
   "name": "python3"
  },
  "language_info": {
   "codemirror_mode": {
    "name": "ipython",
    "version": 3
   },
   "file_extension": ".py",
   "mimetype": "text/x-python",
   "name": "python",
   "nbconvert_exporter": "python",
   "pygments_lexer": "ipython3",
   "version": "3.7.1"
  }
 },
 "nbformat": 4,
 "nbformat_minor": 2
}
