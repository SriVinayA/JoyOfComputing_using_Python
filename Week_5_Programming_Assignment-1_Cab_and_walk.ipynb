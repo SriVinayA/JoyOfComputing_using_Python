{
 "cells": [
  {
   "cell_type": "code",
   "execution_count": 1,
   "metadata": {},
   "outputs": [],
   "source": [
    "# Arun is working in an office which is N blocks away from his house. He wants to minimize the time it takes him to go from his house to the office.\n",
    "# He can either take the office cab or he can walk to the office.\n",
    "# Arun's velocity is V1 m/s when he is walking. The cab moves with velocity V2 m/s but whenever he calls for the cab, it always starts from the office, covers N blocks, collects Arun and goes back to the office.\n",
    "# The cab crosses a total distance of N meters when going from office to Arun's house and vice versa, whereas Arun covers a distance of (√2)*N while walking.\n",
    "# Help Arun to find whether he should walk or take a cab to minimize the time.\n",
    "\n",
    "# Input Format:\n",
    "# A single line containing three integer numbers N, V1, and V2 separated by a space.\n",
    "\n",
    "# Output Format:\n",
    "# Print 'Walk' or 'Cab' accordingly\n",
    "\n",
    "# Constraints:\n",
    "\n",
    "# 1<=V1, V2 <=100\n",
    "\n",
    "# 1<=N<=200\n",
    "\n",
    "# Example-1:\n",
    "\n",
    "# Input:\n",
    "# 5 10 15\n",
    "\n",
    "# Output:\n",
    "# Cab\n",
    "\n",
    "# Example-2:\n",
    "\n",
    "# Input:\n",
    "# 2 10 14\n",
    "\n",
    "# Output:\n",
    "# Walk"
   ]
  },
  {
   "cell_type": "code",
   "execution_count": 2,
   "metadata": {},
   "outputs": [
    {
     "name": "stdout",
     "output_type": "stream",
     "text": [
      "5 10 15\n",
      "Cab"
     ]
    }
   ],
   "source": [
    "import math\n",
    "n,v1,v2 = map(float,input().split())\n",
    "t1 = math.sqrt(float(((2**0.5)*n)/v1))\n",
    "t2 = math.sqrt(float(2*n/v2))\n",
    "\n",
    "if t1<t2:\n",
    "    print(\"Walk\",end='')\n",
    "else:\n",
    "    print(\"Cab\",end='')"
   ]
  }
 ],
 "metadata": {
  "kernelspec": {
   "display_name": "Python 3",
   "language": "python",
   "name": "python3"
  },
  "language_info": {
   "codemirror_mode": {
    "name": "ipython",
    "version": 3
   },
   "file_extension": ".py",
   "mimetype": "text/x-python",
   "name": "python",
   "nbconvert_exporter": "python",
   "pygments_lexer": "ipython3",
   "version": "3.6.5"
  }
 },
 "nbformat": 4,
 "nbformat_minor": 2
}
