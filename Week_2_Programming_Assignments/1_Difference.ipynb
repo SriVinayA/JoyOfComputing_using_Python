{
 "cells": [
  {
   "cell_type": "code",
   "execution_count": null,
   "metadata": {},
   "outputs": [],
   "source": [
    "# In this assignment, you will have to take two numbers as input and print the difference.\n",
    "\n",
    "# Input Format:\n",
    "\n",
    "# The first line of the input contains two numbers separated by a space.\n",
    "\n",
    "# Output Format:\n",
    "\n",
    "# Print the difference in single line\n",
    "\n",
    "# Example:\n",
    "\n",
    "# Input:\n",
    "# 4 2\n",
    "\n",
    "# Output:\n",
    "# 2\n",
    "\n",
    "# Explanation:\n",
    "# Since the difference of numbers 4 and 2 is 2, hence the output is 2."
   ]
  },
  {
   "cell_type": "code",
   "execution_count": 1,
   "metadata": {},
   "outputs": [
    {
     "name": "stdout",
     "output_type": "stream",
     "text": [
      "4 2\n",
      "2\n"
     ]
    }
   ],
   "source": [
    "a,b=input().split();print(int(a)-int(b))"
   ]
  }
 ],
 "metadata": {
  "kernelspec": {
   "display_name": "Python 3",
   "language": "python",
   "name": "python3"
  },
  "language_info": {
   "codemirror_mode": {
    "name": "ipython",
    "version": 3
   },
   "file_extension": ".py",
   "mimetype": "text/x-python",
   "name": "python",
   "nbconvert_exporter": "python",
   "pygments_lexer": "ipython3",
   "version": "3.6.5"
  }
 },
 "nbformat": 4,
 "nbformat_minor": 2
}
