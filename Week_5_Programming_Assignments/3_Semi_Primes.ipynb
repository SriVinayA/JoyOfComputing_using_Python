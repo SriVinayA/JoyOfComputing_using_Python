{
 "cells": [
  {
   "cell_type": "code",
   "execution_count": 1,
   "metadata": {},
   "outputs": [],
   "source": [
    "# A semiprime number is an integer which can be expressed as a product of two distinct primes. For example 15 = 3*5 is a semiprime number but 9 = 3*3 is not .\n",
    "# Given an integer number N, find whether it can be expressed as a sum of two semi-primes or not (not necessarily distinct).\n",
    "\n",
    "# Input Format:\n",
    "# The first line contains an integer N.\n",
    "\n",
    "# Output Format:\n",
    "# Print 'Yes' if it is possible to represent N as a sum of two semiprimes 'No' otherwise.\n",
    "\n",
    "# Example:\n",
    "\n",
    "# Input:\n",
    "# 30\n",
    "\n",
    "# Output:\n",
    "# Yes\n",
    "\n",
    "# Explanation:\n",
    "# N = 30 can be expressed as 15+15 where 15 is a semi-prime number (5*3 = 15)\n",
    "\n",
    "# NOTE: N is less than equal to 200\n"
   ]
  },
  {
   "cell_type": "code",
   "execution_count": 2,
   "metadata": {},
   "outputs": [
    {
     "name": "stdout",
     "output_type": "stream",
     "text": [
      "30\n",
      "Yes"
     ]
    }
   ],
   "source": [
    "prime1=[]\n",
    "prime2=[]\n",
    "semiprime1=[]\n",
    "semiprime2=[]\n",
    "last=[]\n",
    "n=int(input())\n",
    "r=int(n/2)\n",
    "for i in range(2,n):\n",
    "    for j in range(2,i):\n",
    "        if(i%j==0):\n",
    "            break\n",
    "    else:\n",
    "            prime1.append(i)\n",
    "            prime2.append(i)\n",
    "for i in prime1:\n",
    "    for j in prime2:\n",
    "        if i!=j and i*j<=n:\n",
    "            semiprime1.append(i*j)\n",
    "            semiprime2.append(i*j)\n",
    "semiprime1.sort()\n",
    "semiprime2.sort()\n",
    "\n",
    "for i in semiprime1:\n",
    "    for j in semiprime2:\n",
    "        if i+j<=n:\n",
    "            if (i+j) not in last:\n",
    "                last.append(i+j)\n",
    "                \n",
    "last.sort()\n",
    "\n",
    "if n in last:\n",
    "    print(\"Yes\",end='')\n",
    "else:\n",
    "    print(\"No\",end='')"
   ]
  }
 ],
 "metadata": {
  "kernelspec": {
   "display_name": "Python 3",
   "language": "python",
   "name": "python3"
  },
  "language_info": {
   "codemirror_mode": {
    "name": "ipython",
    "version": 3
   },
   "file_extension": ".py",
   "mimetype": "text/x-python",
   "name": "python",
   "nbconvert_exporter": "python",
   "pygments_lexer": "ipython3",
   "version": "3.6.5"
  }
 },
 "nbformat": 4,
 "nbformat_minor": 2
}
