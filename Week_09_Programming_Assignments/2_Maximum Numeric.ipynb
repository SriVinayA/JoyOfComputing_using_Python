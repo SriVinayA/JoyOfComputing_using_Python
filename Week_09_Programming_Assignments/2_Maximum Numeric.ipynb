{
 "cells": [
  {
   "cell_type": "code",
   "execution_count": 1,
   "metadata": {},
   "outputs": [],
   "source": [
    "# Given an alphanumeric string S, extract maximum numeric value from that string. All the alphabets are in lower case. Take the maximum consecutive digits as a single number.\n",
    "\n",
    "# Input Format:\n",
    "# The first line contains the string S.\n",
    "\n",
    "# Output Format:\n",
    "# Print the maximum value\n",
    "\n",
    "# Example:\n",
    "\n",
    "# Input:\n",
    "# 23dsa43dsa98\n",
    "\n",
    "# Output:\n",
    "# 98\n",
    "\n",
    "# Explanation:\n",
    "# There are three integer values present in the string, 23, 43 and 98. Among these, 98 is the maximum."
   ]
  },
  {
   "cell_type": "code",
   "execution_count": 2,
   "metadata": {},
   "outputs": [
    {
     "name": "stdout",
     "output_type": "stream",
     "text": [
      "23dsa43dsa98\n",
      "98"
     ]
    }
   ],
   "source": [
    "import re\n",
    "ip=input()\n",
    "l=((re.findall('\\d+', ip)))\n",
    "l=list(map(int,l))\n",
    "print(max(l),end='')"
   ]
  },
  {
   "cell_type": "markdown",
   "metadata": {},
   "source": [
    "# or"
   ]
  },
  {
   "cell_type": "code",
   "execution_count": 3,
   "metadata": {},
   "outputs": [
    {
     "name": "stdout",
     "output_type": "stream",
     "text": [
      "23dsa43dsa98\n",
      "98\n"
     ]
    }
   ],
   "source": [
    "import re \n",
    "  \n",
    "def extractMax(input): \n",
    "  \n",
    "     # get a list of all numbers separated by  \n",
    "     # lower case characters  \n",
    "     # \\d+ is a regular expression which means \n",
    "     # one or more digit \n",
    "     # output will be like ['100','564','365'] \n",
    "     numbers = re.findall('\\d+',input) \n",
    "  \n",
    "     # now we need to convert each number into integer \n",
    "     # int(string) converts string into integer \n",
    "     # we will map int() function onto all elements  \n",
    "     # of numbers list \n",
    "     numbers = map(int,numbers) \n",
    "  \n",
    "     print(max(numbers)) \n",
    "\n",
    "S = input()\n",
    "extractMax(S)"
   ]
  }
 ],
 "metadata": {
  "kernelspec": {
   "display_name": "py36",
   "language": "python",
   "name": "py36"
  },
  "language_info": {
   "codemirror_mode": {
    "name": "ipython",
    "version": 3
   },
   "file_extension": ".py",
   "mimetype": "text/x-python",
   "name": "python",
   "nbconvert_exporter": "python",
   "pygments_lexer": "ipython3",
   "version": "3.6.6"
  }
 },
 "nbformat": 4,
 "nbformat_minor": 2
}
