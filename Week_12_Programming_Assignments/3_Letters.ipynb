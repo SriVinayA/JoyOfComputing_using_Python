{
 "cells": [
  {
   "cell_type": "code",
   "execution_count": 1,
   "metadata": {},
   "outputs": [],
   "source": [
    "# Write a program that accepts a sentence and calculate the number of upper case letters and lower case letters.\n",
    "\n",
    "# Input Format:\n",
    "# The first line of the input contains a statement.\n",
    "\n",
    "# Output Format:\n",
    "# Print the number of upper case and lower case respectively separated by a space.\n",
    "\n",
    "# Example:\n",
    "\n",
    "# Input:\n",
    "# Hello world!\n",
    "\n",
    "# Output:\n",
    "# 1 9"
   ]
  },
  {
   "cell_type": "code",
   "execution_count": 2,
   "metadata": {},
   "outputs": [
    {
     "name": "stdout",
     "output_type": "stream",
     "text": [
      "Hello world!\n",
      "1 9"
     ]
    }
   ],
   "source": [
    "ip=input()\n",
    "up=0\n",
    "lw=0\n",
    "for i in ip:\n",
    "  if i.islower() :\n",
    "    lw+=1\n",
    "  elif i.isupper() :\n",
    "    up+=1\n",
    "print(up,lw,end='')"
   ]
  },
  {
   "cell_type": "markdown",
   "metadata": {},
   "source": [
    "# solutions Provided by instructor"
   ]
  },
  {
   "cell_type": "code",
   "execution_count": 3,
   "metadata": {},
   "outputs": [
    {
     "name": "stdout",
     "output_type": "stream",
     "text": [
      "Hello world!\n",
      "1 9\n"
     ]
    }
   ],
   "source": [
    "\"\"\"\n",
    "\n",
    "@author: Descentis\n",
    "\"\"\"\n",
    "\n",
    "\n",
    "s = input()\n",
    "d={\"UPPER CASE\":0, \"LOWER CASE\":0}\n",
    "for c in s:\n",
    "    if c.isupper():\n",
    "        d[\"UPPER CASE\"]+=1\n",
    "    elif c.islower():\n",
    "        d[\"LOWER CASE\"]+=1\n",
    "    else:\n",
    "        pass\n",
    "print(d['UPPER CASE'],d['LOWER CASE'])"
   ]
  }
 ],
 "metadata": {
  "kernelspec": {
   "display_name": "py36",
   "language": "python",
   "name": "py36"
  },
  "language_info": {
   "codemirror_mode": {
    "name": "ipython",
    "version": 3
   },
   "file_extension": ".py",
   "mimetype": "text/x-python",
   "name": "python",
   "nbconvert_exporter": "python",
   "pygments_lexer": "ipython3",
   "version": "3.6.6"
  }
 },
 "nbformat": 4,
 "nbformat_minor": 2
}
