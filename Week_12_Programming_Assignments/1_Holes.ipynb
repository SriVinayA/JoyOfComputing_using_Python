{
 "cells": [
  {
   "cell_type": "code",
   "execution_count": 1,
   "metadata": {},
   "outputs": [],
   "source": [
    "# Let us assume paper as the plane and a letter as a curve on the plane, then each letter divides the plane into regions. For example letters \"A\", \"D\", \"O\", \"P\", \"R\" divide the plane into two regions so we say these letters each have one hole. Similarly, letter \"B\" has two holes and letters such as \"C\", \"E\", \"F\", \"K\" have no holes. We say that the number of holes in the text is equal to the total number of holes in the letters of the text. Write a program to determine how many holes are in a given text.\n",
    "\n",
    "# Input Format:\n",
    "# The only line contains a non-empty text composed only of uppercase letters of English alphabet.\n",
    "\n",
    "# Output Format:\n",
    "# output a single line containing the number of holes in the corresponding text.\n",
    "\n",
    "# Example-1\n",
    "\n",
    "# Input:\n",
    "# DRINKEATCODE\n",
    "\n",
    "# Output:\n",
    "# 5\n",
    "\n",
    "\n",
    "# Explanation:\n",
    "# D R A O D has one hole hence total number of holes in the text is 5."
   ]
  },
  {
   "cell_type": "code",
   "execution_count": 2,
   "metadata": {},
   "outputs": [
    {
     "name": "stdout",
     "output_type": "stream",
     "text": [
      "DRINKEATCODE\n",
      "5"
     ]
    }
   ],
   "source": [
    "ip=input()\n",
    "c=0\n",
    "H1=[\"A\", \"D\", \"O\", \"P\", \"R\",'Q']\n",
    "H0=['C','E','F','G','H','I','J','K','L','M','N','S','T','U','V','W','X','Y',\"Z\"]\n",
    "for i in ip:\n",
    "    if i in H1:\n",
    "        c+=1\n",
    "    elif i in H0:\n",
    "        pass\n",
    "    else:\n",
    "        c+=2\n",
    "print(c,end='')"
   ]
  },
  {
   "cell_type": "markdown",
   "metadata": {},
   "source": [
    "# solutions Provided by instructor"
   ]
  },
  {
   "cell_type": "code",
   "execution_count": 3,
   "metadata": {},
   "outputs": [
    {
     "name": "stdout",
     "output_type": "stream",
     "text": [
      "DRINKEATCODE\n",
      "5\n"
     ]
    }
   ],
   "source": [
    "\"\"\"\n",
    "\n",
    "@author: descentis\n",
    "\"\"\"\n",
    "\n",
    "list_st = []\n",
    "\n",
    "\n",
    "zero_hole = [\"C\",\"E\",\"F\",\"G\",\"H\",\"I\",\"J\",\"K\",\"L\",\"M\",\"N\",\"S\",\"T\",\"U\",\"V\",\"W\",\"X\",\"Y\",\"Z\"]\n",
    "one_hole = [\"A\",\"D\",\"O\",\"P\",\"Q\",\"R\"]\n",
    "two_hole = [\"B\"]\n",
    "\n",
    "\n",
    "\n",
    "\n",
    "x = input()\n",
    "\n",
    "\n",
    "\n",
    "c = 0\n",
    "for j in x:        \n",
    "    if(j in one_hole):\n",
    "        c = c+1\n",
    "    if(j in two_hole):\n",
    "        c=c+2\n",
    "print(c)       "
   ]
  }
 ],
 "metadata": {
  "kernelspec": {
   "display_name": "py36",
   "language": "python",
   "name": "py36"
  },
  "language_info": {
   "codemirror_mode": {
    "name": "ipython",
    "version": 3
   },
   "file_extension": ".py",
   "mimetype": "text/x-python",
   "name": "python",
   "nbconvert_exporter": "python",
   "pygments_lexer": "ipython3",
   "version": "3.6.6"
  }
 },
 "nbformat": 4,
 "nbformat_minor": 2
}
