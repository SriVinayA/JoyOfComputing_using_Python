{
 "cells": [
  {
   "cell_type": "code",
   "execution_count": 1,
   "metadata": {},
   "outputs": [],
   "source": [
    "# Given a positive integer number n, you have to write a program that generates a dictionary d which contains (i, i*i) such that i is the key and i*i is its value, where i is from 1 to n (both included).\n",
    "# Then you have to just print this dictionary d.\n",
    "\n",
    "# Example:\n",
    "# Input: 4\n",
    "\n",
    "# will give output as\n",
    "# {1: 1, 2: 4, 3: 9, 4: 16}\n",
    "\n",
    "# Input Format:\n",
    "# Take the number n in a single line.\n",
    "\n",
    "# Output Format:\n",
    "# Print the dictionary d in a single line.\n",
    "\n",
    "\n",
    "# Example:\n",
    "\n",
    "# Input:\n",
    "# 8\n",
    "\n",
    "# Output:\n",
    "# {1: 1, 2: 4, 3: 9, 4: 16, 5: 25, 6: 36, 7: 49, 8: 64}\n",
    "\n",
    "# Explanation:\n",
    "\n",
    "# Here n is 8, we will start from i=1, hence the first element of the dictionary is (1: 1), as i becomes 2, the second element of the dictionary becomes (2: 4) and so on.\n",
    "# Hence the output will be {1: 1, 2: 4, 3: 9, 4: 16, 5: 25, 6: 36, 7: 49, 8: 64}."
   ]
  },
  {
   "cell_type": "code",
   "execution_count": 1,
   "metadata": {},
   "outputs": [
    {
     "name": "stdout",
     "output_type": "stream",
     "text": [
      "8\n",
      "{1: 1, 2: 4, 3: 9, 4: 16, 5: 25, 6: 36, 7: 49, 8: 64}\n"
     ]
    }
   ],
   "source": [
    "n=int(input())\n",
    "d=dict()\n",
    "for i in range(1,n+1):\n",
    "    d[i]=i*i\n",
    "\n",
    "print(d)"
   ]
  }
 ],
 "metadata": {
  "kernelspec": {
   "display_name": "Python 3",
   "language": "python",
   "name": "python3"
  },
  "language_info": {
   "codemirror_mode": {
    "name": "ipython",
    "version": 3
   },
   "file_extension": ".py",
   "mimetype": "text/x-python",
   "name": "python",
   "nbconvert_exporter": "python",
   "pygments_lexer": "ipython3",
   "version": "3.6.5"
  }
 },
 "nbformat": 4,
 "nbformat_minor": 2
}
