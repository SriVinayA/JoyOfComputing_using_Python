{
 "cells": [
  {
   "cell_type": "code",
   "execution_count": 1,
   "metadata": {},
   "outputs": [],
   "source": [
    "# This assignment is just to make you people comfortable with the NPTEL programming environment.\n",
    "\n",
    "# In this assignment, your task is just to read the input number and print it.\n",
    "# Before attempting the programming assignments, please make sure you have gone through how to attempt the programming assignments.\n",
    "\n",
    "# Input:\n",
    "# The input will contain only one number.\n",
    "\n",
    "# Output:\n",
    "# Output the same number.\n",
    "\n",
    "# Example:\n",
    "\n",
    "# Input:\n",
    "# 10\n",
    "\n",
    "# Output:\n",
    "# 10\n",
    "\n",
    "# How to take input in python:\n",
    "\n",
    "# a = int(input())  # this code will take a single input and store it in variable a\n"
   ]
  },
  {
   "cell_type": "code",
   "execution_count": 2,
   "metadata": {},
   "outputs": [
    {
     "name": "stdout",
     "output_type": "stream",
     "text": [
      "10\n",
      "10\n"
     ]
    }
   ],
   "source": [
    "a = int(input())\n",
    "print(a)"
   ]
  },
  {
   "cell_type": "code",
   "execution_count": null,
   "metadata": {},
   "outputs": [],
   "source": []
  }
 ],
 "metadata": {
  "kernelspec": {
   "display_name": "Python 3",
   "language": "python",
   "name": "python3"
  },
  "language_info": {
   "codemirror_mode": {
    "name": "ipython",
    "version": 3
   },
   "file_extension": ".py",
   "mimetype": "text/x-python",
   "name": "python",
   "nbconvert_exporter": "python",
   "pygments_lexer": "ipython3",
   "version": "3.6.5"
  }
 },
 "nbformat": 4,
 "nbformat_minor": 2
}
