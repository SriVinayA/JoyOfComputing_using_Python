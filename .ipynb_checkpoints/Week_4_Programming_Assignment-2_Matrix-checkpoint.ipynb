{
 "cells": [
  {
   "cell_type": "code",
   "execution_count": null,
   "metadata": {},
   "outputs": [],
   "source": [
    "# You are provided with the number of rows (R) and columns (C). Your task is to generate the matrix having R rows and C columns such that all the numbers are in increasing order starting from 1 in row wise manner.\n",
    "\n",
    "# Input Format:\n",
    "# The first line contain two numbers R and C separated by a space.\n",
    "\n",
    "# Output Format:\n",
    "# Print the elements of the matrix with each row in a new line and elements of each row are separated by a space.\n",
    "\n",
    "# NOTE: There should not be any space after the last element of each row and no new line after the last row.\n",
    "\n",
    "# Example:\n",
    "\n",
    "# Input:\n",
    "# 3 3\n",
    "\n",
    "# Output:\n",
    "# 1 2 3\n",
    "# 4 5 6\n",
    "# 7 8 9\n",
    "\n",
    "# Explanation: \n",
    "# Starting from the first row, the numbers are present in the increasing order. Since it's a 3X3 matrix, the numbers are from 1 to 9."
   ]
  },
  {
   "cell_type": "code",
   "execution_count": 1,
   "metadata": {},
   "outputs": [
    {
     "name": "stdout",
     "output_type": "stream",
     "text": [
      "3 3\n",
      "1 2 3\n",
      "4 5 6\n",
      "7 8 9"
     ]
    }
   ],
   "source": [
    "R,C = input().split()\n",
    "\n",
    "R=int(R)\n",
    "C=int(C)\n",
    "\n",
    "matrix=[]\n",
    "count=1\n",
    "\n",
    "for i in range(R):\n",
    "    l=[]\n",
    "    for j in range(C):\n",
    "        l.append(count)\n",
    "        count=count+1\n",
    "    matrix.append(l)\n",
    "    \n",
    "for i in range(R):\n",
    "    if i!=0:\n",
    "        print()\n",
    "    for j in range(C):\n",
    "        if j==C-1:\n",
    "            print(matrix[i][j],end='')\n",
    "        else:\n",
    "            print(matrix[i][j],end=' ')"
   ]
  }
 ],
 "metadata": {
  "kernelspec": {
   "display_name": "Python 3",
   "language": "python",
   "name": "python3"
  },
  "language_info": {
   "codemirror_mode": {
    "name": "ipython",
    "version": 3
   },
   "file_extension": ".py",
   "mimetype": "text/x-python",
   "name": "python",
   "nbconvert_exporter": "python",
   "pygments_lexer": "ipython3",
   "version": "3.6.5"
  }
 },
 "nbformat": 4,
 "nbformat_minor": 2
}
