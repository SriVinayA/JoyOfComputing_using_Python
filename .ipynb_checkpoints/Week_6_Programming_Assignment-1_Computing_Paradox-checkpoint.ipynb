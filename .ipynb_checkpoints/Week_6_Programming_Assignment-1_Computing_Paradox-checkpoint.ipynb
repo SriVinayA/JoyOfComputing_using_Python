{
 "cells": [
  {
   "cell_type": "code",
   "execution_count": 1,
   "metadata": {},
   "outputs": [],
   "source": [
    "# You are provided with a playlist containing N songs, each has a unique positive integer length. Assume you like all the songs from this playlist, but there is a song, which you like more than others.\n",
    "# It is named \"Computing Paradox\".\n",
    "\n",
    "# You decided to sort this playlist in increasing order of songs length. For example, if the lengths of the songs in the playlist were {1, 3, 5, 2, 4} after sorting it becomes {1, 2, 3, 4, 5}.\n",
    "# Before the sorting, \"Computing Paradox\" was on the kth position (1-indexing is assumed for the playlist) in the playlist.\n",
    "\n",
    "# Your task is to find the position of \"Computing Paradox\" in the sorted playlist.\n",
    "\n",
    "\n",
    "# Input Format:\n",
    "# The first line contains two numbers N denoting the number of songs in the playlist.\n",
    "# The second line contains N space separated integers A1, A2, A3,..., AN denoting the lengths of songs.\n",
    "# The third line contains an integer k, denoting the position of \"Computing Paradox\" in the initial playlist.\n",
    "\n",
    "# Output Format:\n",
    "\n",
    "# Output a single line containing the position of \"Computing Paradox\" in the sorted playlist.\n",
    "\n",
    "# Example:\n",
    "\n",
    "# Input:\n",
    "# 4\n",
    "# 1 3 4 2\n",
    "# 2\n",
    "\n",
    "\n",
    "# Output:\n",
    "# 3\n",
    "\n",
    "# Explaination:\n",
    "# N equals to 4, k equals to 2, A equals to {1, 3, 4, 2}. The answer is 3 because {1, 3, 4, 2} -> {1, 2, 3, 4}."
   ]
  },
  {
   "cell_type": "code",
   "execution_count": 2,
   "metadata": {},
   "outputs": [
    {
     "name": "stdout",
     "output_type": "stream",
     "text": [
      "4\n",
      "1 3 4 2\n",
      "2\n",
      "3"
     ]
    }
   ],
   "source": [
    "x = int(input())\n",
    "List = [int(i) for i in input().split()]\n",
    "sort = list(set(List))\n",
    "k = int(input())\n",
    "j = List[k-1]\n",
    "if j in sort:\n",
    "    ind = sort.index(j)+1\n",
    "    print(ind,end='')"
   ]
  }
 ],
 "metadata": {
  "kernelspec": {
   "display_name": "Python 3",
   "language": "python",
   "name": "python3"
  },
  "language_info": {
   "codemirror_mode": {
    "name": "ipython",
    "version": 3
   },
   "file_extension": ".py",
   "mimetype": "text/x-python",
   "name": "python",
   "nbconvert_exporter": "python",
   "pygments_lexer": "ipython3",
   "version": "3.6.5"
  }
 },
 "nbformat": 4,
 "nbformat_minor": 2
}
