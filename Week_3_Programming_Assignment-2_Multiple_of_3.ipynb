{
 "cells": [
  {
   "cell_type": "code",
   "execution_count": null,
   "metadata": {},
   "outputs": [],
   "source": [
    "# Given a list A of numbers, you have to print those numbers which are not multiples of 3.\n",
    "\n",
    "# Input Format:\n",
    "\n",
    "# The first line contains the numbers of list A separated by a space.\n",
    "\n",
    "# Output Format:\n",
    "\n",
    "# Print the numbers in a single line separated by a space which are not multiples of 3.\n",
    "\n",
    "# Example:\n",
    "\n",
    "# Input:\n",
    "\n",
    "# 1 2 3 4 5 6\n",
    "\n",
    "# Output:\n",
    "\n",
    "# 1 2 4 5\n",
    "\n",
    "# Explanation:\n",
    "# Here the elements of A are 1,2,3,4,5,6 and since 3,6 are the multiples of 3 hence after removing them the list becomes 1,2,4,5."
   ]
  },
  {
   "cell_type": "code",
   "execution_count": 30,
   "metadata": {},
   "outputs": [
    {
     "name": "stdout",
     "output_type": "stream",
     "text": [
      "1 2 3 4 5 6\n",
      "1 2 4 5 "
     ]
    }
   ],
   "source": [
    "k = list(map(int,input().split()))\n",
    "\n",
    "\n",
    "def three(num):\n",
    "    if num%3!=0:\n",
    "        return True\n",
    "    else :\n",
    "        return False\n",
    "\n",
    "    \n",
    "\n",
    "k = list(filter(three,k))\n",
    "\n",
    "\n",
    "for i in range(len(k)):\n",
    "    print(k[i],end = \" \")"
   ]
  }
 ],
 "metadata": {
  "kernelspec": {
   "display_name": "Python 3",
   "language": "python",
   "name": "python3"
  },
  "language_info": {
   "codemirror_mode": {
    "name": "ipython",
    "version": 3
   },
   "file_extension": ".py",
   "mimetype": "text/x-python",
   "name": "python",
   "nbconvert_exporter": "python",
   "pygments_lexer": "ipython3",
   "version": "3.6.5"
  }
 },
 "nbformat": 4,
 "nbformat_minor": 2
}
