{
 "cells": [
  {
   "cell_type": "code",
   "execution_count": 2,
   "metadata": {},
   "outputs": [],
   "source": [
    "# Given a list A of N distinct integer numbers, you can sort the list by moving an element to the end of the list. Find the minimum number of moves required to sort the list using this method in ascending order. \n",
    "\n",
    "# Input Format:\n",
    "# The first line of the input contains N distinct integers of list A separated by a space.\n",
    "\n",
    "# Output Format\n",
    "# Print the minimum number of moves required to sort the elements.\n",
    "\n",
    "# Example:\n",
    "\n",
    "# Input:\n",
    "# 1 3 2 4 5\n",
    "\n",
    "# Output:\n",
    "# 3\n",
    "\n",
    "# Explanation:\n",
    "# In the first move, we move 3 to the end of the list. In the second move, we move 4 to the end of the list, and finally, in the third movement, we move 5 to the end."
   ]
  },
  {
   "cell_type": "code",
   "execution_count": 1,
   "metadata": {},
   "outputs": [
    {
     "name": "stdout",
     "output_type": "stream",
     "text": [
      "1 3 2 4 5\n",
      "3\n"
     ]
    }
   ],
   "source": [
    "arr = [int(x) for x in input().split()]\n",
    "arr1 = sorted(arr)\n",
    "count = 0\n",
    "for i in range(len(arr)):\n",
    "    if arr[i] == arr1[count]:\n",
    "        count+=1\n",
    "print(len(arr)-count)"
   ]
  }
 ],
 "metadata": {
  "kernelspec": {
   "display_name": "Python 3",
   "language": "python",
   "name": "python3"
  },
  "language_info": {
   "codemirror_mode": {
    "name": "ipython",
    "version": 3
   },
   "file_extension": ".py",
   "mimetype": "text/x-python",
   "name": "python",
   "nbconvert_exporter": "python",
   "pygments_lexer": "ipython3",
   "version": "3.6.5"
  }
 },
 "nbformat": 4,
 "nbformat_minor": 2
}
