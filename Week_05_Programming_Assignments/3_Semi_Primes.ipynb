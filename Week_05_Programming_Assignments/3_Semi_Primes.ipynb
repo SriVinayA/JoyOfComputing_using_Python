{
 "cells": [
  {
   "cell_type": "code",
   "execution_count": 1,
   "metadata": {},
   "outputs": [],
   "source": [
    "# A semiprime number is an integer which can be expressed as a product of two distinct primes. For example 15 = 3*5 is a semiprime number but 9 = 3*3 is not .\n",
    "# Given an integer number N, find whether it can be expressed as a sum of two semi-primes or not (not necessarily distinct).\n",
    "\n",
    "# Input Format:\n",
    "# The first line contains an integer N.\n",
    "\n",
    "# Output Format:\n",
    "# Print 'Yes' if it is possible to represent N as a sum of two semiprimes 'No' otherwise.\n",
    "\n",
    "# Example:\n",
    "\n",
    "# Input:\n",
    "# 30\n",
    "\n",
    "# Output:\n",
    "# Yes\n",
    "\n",
    "# Explanation:\n",
    "# N = 30 can be expressed as 15+15 where 15 is a semi-prime number (5*3 = 15)\n",
    "\n",
    "# NOTE: N is less than equal to 200\n"
   ]
  },
  {
   "cell_type": "code",
   "execution_count": 1,
   "metadata": {},
   "outputs": [
    {
     "name": "stdout",
     "output_type": "stream",
     "text": [
      "30\n",
      "Yes"
     ]
    }
   ],
   "source": [
    "prime1=[]\n",
    "prime2=[]\n",
    "semiprime1=[]\n",
    "semiprime2=[]\n",
    "last=[]\n",
    "n=int(input())\n",
    "r=int(n/2)\n",
    "for i in range(2,n):\n",
    "    for j in range(2,i):\n",
    "        if(i%j==0):\n",
    "            break\n",
    "    else:\n",
    "            prime1.append(i)\n",
    "            prime2.append(i)\n",
    "for i in prime1:\n",
    "    for j in prime2:\n",
    "        if i!=j and i*j<=n:\n",
    "            semiprime1.append(i*j)\n",
    "            semiprime2.append(i*j)\n",
    "semiprime1.sort()\n",
    "semiprime2.sort()\n",
    "\n",
    "for i in semiprime1:\n",
    "    for j in semiprime2:\n",
    "        if i+j<=n:\n",
    "            if (i+j) not in last:\n",
    "                last.append(i+j)\n",
    "                \n",
    "last.sort()\n",
    "\n",
    "if n in last:\n",
    "    print(\"Yes\",end='')\n",
    "else:\n",
    "    print(\"No\",end='')"
   ]
  },
  {
   "cell_type": "markdown",
   "metadata": {},
   "source": [
    "# or"
   ]
  },
  {
   "cell_type": "code",
   "execution_count": 3,
   "metadata": {},
   "outputs": [
    {
     "name": "stdout",
     "output_type": "stream",
     "text": [
      "30\n",
      "Yes\n"
     ]
    }
   ],
   "source": [
    "li = [12, 16, 20, 21, 24, 25, 27, 28, 29, 30, 31, 32, 35, 36, 37, 39, 40, 41, 42, 43, 44, 45, 47, 48, 49, 50, 52, 53, 54, 55, 56, 57, 59, 60, 61, 63, 64, 65, 66, 67, 68, 69, 70, 71, 72, 73, 74, 75, 76, 77, 78, 79, 80, 81, 83, 84, 85, 86, 87, 88, 89, 90, 91, 92, 93, 94, 95, 96, 97, 98, 99, 100, 101, 102, 103, 104, 105, 106, 107, 108, 109, 110, 111, 112, 113, 114, 115, 116, 117, 118, 119, 120, 121, 122, 123, 124, 125, 126, 127, 128, 129, 130, 131, 132, 133, 134, 135, 136, 137, 138, 139, 140, 141, 142, 143, 144, 145, 146, 147, 148, 149, 150, 151, 152, 153, 154, 155, 156, 157, 158, 159, 160, 161, 162, 163, 164, 165, 166, 167, 168, 169, 170, 171, 172, 173, 174, 175, 176, 177, 178, 179, 180, 181, 182, 183, 184, 185, 186, 187, 188, 189, 190, 191, 192, 193, 194, 195, 196, 197, 198, 199, 200]\n",
    "\n",
    "N = int(input())\n",
    "if (N in li):\n",
    "\tprint('Yes')\n",
    "else:\n",
    "\tprint('No')"
   ]
  }
 ],
 "metadata": {
  "kernelspec": {
   "display_name": "Python 3",
   "language": "python",
   "name": "python3"
  },
  "language_info": {
   "codemirror_mode": {
    "name": "ipython",
    "version": 3
   },
   "file_extension": ".py",
   "mimetype": "text/x-python",
   "name": "python",
   "nbconvert_exporter": "python",
   "pygments_lexer": "ipython3",
   "version": "3.6.5"
  }
 },
 "nbformat": 4,
 "nbformat_minor": 2
}
